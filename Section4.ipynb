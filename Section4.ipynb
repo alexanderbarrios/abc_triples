{
 "cells": [
  {
   "cell_type": "code",
   "execution_count": 1,
   "metadata": {
    "collapsed": false
   },
   "outputs": [
   ],
   "source": [
    "load('definitions.sage')"
   ]
  },
  {
   "cell_type": "markdown",
   "metadata": {
    "collapsed": false
   },
   "source": [
    "Below, we call the file 'triples_below_1018.csv,' which contains all abc triples $(a,b,c)$ found by the ABC@Home Project with $c<10^{18}$. In particular, this csv file has $14\\ 482\\ 065$ entries."
   ]
  },
  {
   "cell_type": "code",
   "execution_count": 2,
   "metadata": {
    "collapsed": false
   },
   "outputs": [
   ],
   "source": [
    "from sage.schemes.elliptic_curves.weierstrass_morphism import *\n",
    "import csv\n",
    "file = open(\"triples_below_1018.csv\")\n",
    "data = list(csv.reader(file,\n",
    " delimiter=\" \"))\n",
    "file.close()"
   ]
  },
  {
   "cell_type": "markdown",
   "metadata": {
    "collapsed": false
   },
   "source": [
    "Next, we construct the set $S$, which consists of all $abc$ triples of the form $(1,c-1,c)$ with $c<10^{18}$. The code also verifies that the cardinality of S is $45\\ 603$."
   ]
  },
  {
   "cell_type": "code",
   "execution_count": 3,
   "metadata": {
    "collapsed": false
   },
   "outputs": [
    {
     "name": "stdout",
     "output_type": "stream",
     "text": [
      "45603\n"
     ]
    }
   ],
   "source": [
    "S=[]\n",
    "for i in (0..14482064):\n",
    "\ta=ZZ(data[i][1])\n",
    "\tc=ZZ(data[i][0])\n",
    "\tb=ZZ(c-a)\n",
    "\tif a==1 or b==1:\n",
    "\t\tS.append((a,b,c))\n",
    "reset('data')\n",
    "print(Set(S).cardinality())"
   ]
  },
  {
   "cell_type": "markdown",
   "metadata": {
    "collapsed": false
   },
   "source": [
    "Below, we construct the set\n",
    "$$ T=\\left\\{  \\left(  1,c-1,c\\right)  \\in S\\mid c=n^{l}\\text{ or }c=n^{l}+1\\text{for some }l>1\\right\\},$$\n",
    "and verify that it has $8\\ 413$ elements."
   ]
  },
  {
   "cell_type": "code",
   "execution_count": 4,
   "metadata": {
    "collapsed": false
   },
   "outputs": [
    {
     "name": "stdout",
     "output_type": "stream",
     "text": [
      "8413\n"
     ]
    }
   ],
   "source": [
    "T=[]\n",
    "for x in S:\n",
    "\tlc=GCDs(vps(ZZ(x[2])))\n",
    "\tlb=GCDs(vps(ZZ(x[1])))\n",
    "\tif lc>1:\n",
    "\t\tT.append(x)\n",
    "\tif lb>1:\n",
    "\t\tT.append(x)\n",
    "print(Set(T).cardinality())"
   ]
  },
  {
   "cell_type": "markdown",
   "metadata": {
    "collapsed": false
   },
   "source": [
    "Now let\n",
    "$$C_{i}=\\left\\{  \\left(  1,c-1,c\\right)  \\in T\\mid\\left(  1,c-1,c\\right)  \\text{arises from Corollary 3.i}\\right\\}. $$\n",
    "Below, Ci corresponds to the set $C_i$. We note that the code for constructing Ci is found in the construction_for_C.sage file. The code below prints the cardinality of $C_i$, as well as the cardinality of the set\n",
    "$$ C=\\bigcup_{3\\leq i\\leq11}C_{i}.$$"
   ]
  },
  {
   "cell_type": "code",
   "execution_count": 5,
   "metadata": {
    "collapsed": false
   },
   "outputs": [
    {
     "name": "stdout",
     "output_type": "stream",
     "text": [
      "32\n",
      "58\n",
      "12\n",
      "41\n",
      "29\n",
      "81\n",
      "46\n",
      "18\n",
      "36\n",
      "162\n"
     ]
    }
   ],
   "source": [
    "load('construction_of_C.sage')\n",
    "print(Set(C3).cardinality())\n",
    "print(Set(C4).cardinality())\n",
    "print(Set(C5).cardinality())\n",
    "print(Set(C6).cardinality())\n",
    "print(Set(C7).cardinality())\n",
    "print(Set(C8).cardinality())\n",
    "print(Set(C9).cardinality())\n",
    "print(Set(C10).cardinality())\n",
    "print(Set(C11).cardinality())\n",
    "C=Set(C11).union(Set(Set(C10).union(Set(Set(C9).union(Set(Set(C8).union(Set(Set(C7).union(Set(Set(C6).union(Set(Set(C5).union(Set(Set(C4).union(Set(C3))))))))))))))))\n",
    "print(Set(C).cardinality())"
   ]
  },
  {
   "cell_type": "markdown",
   "metadata": {
    "collapsed": false
   },
   "source": [
    "Let $D$ denote the set of $abc$ triples in $T$ with the property that an element of $D$ is in $C$ or can be obtained from an $abc$ triple in $C$ after successive applications of Proposition 4.1. The imported code constructs D through repeated applications of Proposition 4.1 and Corollary 2.4. In particular, the code constructs a sequence of subsets $D_i$ with the property that $C \\subseteq D_i \\subseteq D_j$ for $i \\leq j$. In particular, we set $D=D_8$ since the code below shows that the cardinality of $D_i$ has stabilized by $D_8$. In particular, we see that the cardinality of $D$ is $309$."
   ]
  },
  {
   "cell_type": "code",
   "execution_count": 6,
   "metadata": {
    "collapsed": false
   },
   "outputs": [
    {
     "name": "stdout",
     "output_type": "stream",
     "text": [
      "217\n",
      "285\n",
      "303\n",
      "307\n",
      "309\n",
      "309\n",
      "309\n",
      "309\n",
      "309\n"
     ]
    }
   ],
   "source": [
    "load('construction_of_D.sage')\n",
    "print(Set(D1).cardinality())\n",
    "print(Set(D2).cardinality())\n",
    "print(Set(D3).cardinality())\n",
    "print(Set(D4).cardinality())\n",
    "print(Set(D5).cardinality())\n",
    "print(Set(D6).cardinality())\n",
    "print(Set(D7).cardinality())\n",
    "print(Set(D8).cardinality())\n",
    "D=sorted(Set(D8))\n",
    "print(Set(D).cardinality())"
   ]
  },
  {
   "cell_type": "markdown",
   "metadata": {
    "collapsed": false
   },
   "source": [
    "For sets $X$ and $Y$ such that $X\\subseteq Y\\subseteq S$, we define\n",
    "$$\\delta_{X,Y}\\!\\left(  x\\right)  =\\frac{\\#\\left\\{  \\left(  1,c-1,c\\right)  \\in X\\mid c\\leq x\\right\\}  }{\\#\\left\\{  \\left(  1,c-1,c\\right)  \\in Y\\mid c\\leq x\\right\\}  }.$$\n",
    "Below, we refer to $\\delta_{X,Y}\\!\\left(  x\\right)$  as den(X,Y,n). We note that this function gives the percentage of $abc$ triples $(1,c-1,c)$ of $Y$ that are in $X$ with $c\\leq n$.  The code below gives some values of $\\delta_{T,S}\\!\\left(  x\\right)  ,\\delta\n",
    "_{D,S}\\!\\left(  x\\right)  $, and $\\delta_{D,T}\\!\\left(  x\\right)  $:"
   ]
  },
  {
   "cell_type": "code",
   "execution_count": 7,
   "metadata": {
    "collapsed": false
   },
   "outputs": [
    {
     "name": "stdout",
     "output_type": "stream",
     "text": [
      "(80.0, 53.3, 66.7)\n",
      "(57.8, 28.1, 48.7)\n"
     ]
    },
    {
     "name": "stdout",
     "output_type": "stream",
     "text": [
      "(45.2, 13.5, 29.9)\n",
      "(35.1, 7.03, 20.0)\n"
     ]
    },
    {
     "name": "stdout",
     "output_type": "stream",
     "text": [
      "(30.0, 3.79, 12.6)\n",
      "(24.6, 2.06, 8.40)\n"
     ]
    },
    {
     "name": "stdout",
     "output_type": "stream",
     "text": [
      "(20.9, 1.14, 5.44)\n"
     ]
    },
    {
     "name": "stdout",
     "output_type": "stream",
     "text": [
      "(18.4, 0.678, 3.67)\n"
     ]
    }
   ],
   "source": [
    "print((den(T,S,10^4),den(D,S,10^4), den(D,T,10^4)))\n",
    "print((den(T,S,10^6),den(D,S,10^6), den(D,T,10^6)))\n",
    "print((den(T,S,10^8),den(D,S,10^8), den(D,T,10^8)))\n",
    "print((den(T,S,10^10),den(D,S,10^10), den(D,T,10^10)))\n",
    "print((den(T,S,10^12),den(D,S,10^12), den(D,T,10^12)))\n",
    "print((den(T,S,10^14),den(D,S,10^14), den(D,T,10^14)))\n",
    "print((den(T,S,10^16),den(D,S,10^16), den(D,T,10^16)))\n",
    "print((den(T,S,10^18),den(D,S,10^18), den(D,T,10^18)))"
   ]
  },
  {
   "cell_type": "code",
   "execution_count": 8,
   "metadata": {
    "collapsed": false
   },
   "outputs": [
   ],
   "source": [
    "W1=[]\n",
    "W2=[]\n",
    "for x in T:\n",
    "\tlc=GCDs(vps(ZZ(x[2])))\n",
    "\tlb=GCDs(vps(ZZ(x[1])))\n",
    "\tif lc>1:\n",
    "\t\tQx=[]\n",
    "\t\tQ1=divisors(prodcosocle(x[1]))\n",
    "\t\tfor y in Q1:\n",
    "\t\t\tif cosocle(y) > radical(ZZ(x[2]^(1/lc))):\n",
    "\t\t\t\tQx.append(y)\n",
    "\t\t\t\tW1.append((x[0],x[1],x[2],ZZ(x[2]^(1/lc)),lc, min(Qx), numerical_approx(Quality(x[0],x[1]),digits=5), min(Qx) == x[1]))\n",
    "\tif lb>1 and is_odd(lb):\n",
    "\t\tQx=[]\n",
    "\t\tQ1=divisors(prodcosocle(x[2]))\n",
    "\t\tfor y in Q1:\n",
    "\t\t\tif cosocle(y) > radical(ZZ(x[1]^(1/lb))):\n",
    "\t\t\t\tQx.append(y)\n",
    "\t\t\t\tW2.append((x[0],x[1],x[2],ZZ(x[1]^(1/lb)),lb, min(Qx),numerical_approx(Quality(x[0],x[1]),digits=5),min(Qx) == x[2]))\n",
    "W1=sorted(Set(W1))\n",
    "W2=sorted(Set(W2))"
   ]
  },
  {
   "cell_type": "code",
   "execution_count": 9,
   "metadata": {
    "collapsed": false
   },
   "outputs": [
    {
     "name": "stdout",
     "output_type": "stream",
     "text": [
      "<_io.TextIOWrapper name='triples_for_thm1.csv' mode='rt' encoding='UTF-8'>\n",
      "<_io.TextIOWrapper name='triples_for_thm2.csv' mode='rt' encoding='UTF-8'>\n"
     ]
    }
   ],
   "source": [
    "import csv\n",
    "import sys\n",
    "\n",
    "f = open('triples_for_thm1.csv', 'wt')\n",
    "try:\n",
    "    writer = csv.writer(f)\n",
    "    writer.writerow( ( 'a', 'b', 'c', 'n', 'l', 'm', 'quality', 'm is not a proper divisor of b'\n",
    "                     ))\n",
    "    for u in (0..Set(W1).cardinality()-1):\n",
    "        writer.writerow( ( W1[u][0], W1[u][1],W1[u][2],W1[u][3],W1[u][4],W1[u][5],W1[u][6],W1[u][7]\n",
    "\n",
    "\n",
    "                         ))\n",
    "finally:\n",
    "    f.close()\n",
    "\n",
    "print(open('triples_for_thm1.csv', 'rt'))\n",
    "\n",
    "import csv\n",
    "import sys\n",
    "\n",
    "f = open('triples_for_thm2.csv', 'wt')\n",
    "try:\n",
    "    writer = csv.writer(f)\n",
    "    writer.writerow( ( 'a', 'b', 'c', 'n', 'l', 'm', 'quality', 'm is not a proper divisor of b'\n",
    "                     ))\n",
    "    for u in (0..Set(W2).cardinality()-1):\n",
    "        writer.writerow( ( W2[u][0], W2[u][1],W2[u][2],W2[u][3],W2[u][4],W2[u][5],W2[u][6],W2[u][7]\n",
    "\n",
    "\n",
    "                         ))\n",
    "finally:\n",
    "    f.close()\n",
    "\n",
    "print(open('triples_for_thm2.csv', 'rt'))"
   ]
  },
  {
   "cell_type": "code",
   "execution_count": 10,
   "metadata": {
    "collapsed": false
   },
   "outputs": [
    {
     "name": "stdout",
     "output_type": "stream",
     "text": [
      "<_io.TextIOWrapper name='qualities_in_S.csv' mode='rt' encoding='UTF-8'>\n"
     ]
    }
   ],
   "source": [
    "import csv\n",
    "import sys\n",
    "\n",
    "f = open('qualities_in_S.csv', 'wt')\n",
    "try:\n",
    "    writer = csv.writer(f)\n",
    "    writer.writerow( ( 'Quality' , ' '\n",
    "                     ))\n",
    "    for u in (0..Set(S).cardinality()-1):\n",
    "        writer.writerow( ( Quality(S[u][0] , S[u][1]), \n",
    "\n",
    "\n",
    "                         ))\n",
    "finally:\n",
    "    f.close()\n",
    "\n",
    "print(open('qualities_in_S.csv', 'rt'))"
   ]
  },
  {
   "cell_type": "code",
   "execution_count": 11,
   "metadata": {
    "collapsed": false
   },
   "outputs": [
    {
     "name": "stdout",
     "output_type": "stream",
     "text": [
      "<_io.TextIOWrapper name='qualities_in_T.csv' mode='rt' encoding='UTF-8'>\n"
     ]
    }
   ],
   "source": [
    "import csv\n",
    "import sys\n",
    "\n",
    "f = open('qualities_in_T.csv', 'wt')\n",
    "try:\n",
    "    writer = csv.writer(f)\n",
    "    writer.writerow( ( 'Quality' , ' '\n",
    "                     ))\n",
    "    for u in (0..Set(T).cardinality()-1):\n",
    "        writer.writerow( ( Quality(T[u][0] , T[u][1]), \n",
    "\n",
    "\n",
    "                         ))\n",
    "finally:\n",
    "    f.close()\n",
    "\n",
    "print(open('qualities_in_T.csv', 'rt'))"
   ]
  },
  {
   "cell_type": "code",
   "execution_count": 12,
   "metadata": {
    "collapsed": false
   },
   "outputs": [
    {
     "data": {
      "image/png": "[encoded data removed]",
      "text/plain": [
       "<Figure size 432x288 with 1 Axes>"
      ]
     },
     "execution_count": 12,
     "metadata": {
     },
     "output_type": "execute_result"
    },
    {
     "data": {
      "text/plain": [
       "<Figure size 1440x720 with 0 Axes>"
      ]
     },
     "execution_count": 12,
     "metadata": {
     },
     "output_type": "execute_result"
    }
   ],
   "source": [
    "import matplotlib.pyplot as plt\n",
    "import pandas as pd\n",
    "df = pd.read_csv('qualities_in_S.csv')\n",
    "data = df['Quality']\n",
    "data.hist(bins=5000)\n",
    "plt.xlim([1.0,1.4])\n",
    "plt.title(\"\")\n",
    "plt.xlabel(\"Quality\")\n",
    "plt.ylabel(\"Frequency\")\n",
    "plt.figure(figsize=(20,10))\n",
    "plt.show()"
   ]
  },
  {
   "cell_type": "code",
   "execution_count": 13,
   "metadata": {
    "collapsed": false
   },
   "outputs": [
    {
     "data": {
      "image/png": "[encoded data removed]",
      "text/plain": [
       "<Figure size 432x288 with 1 Axes>"
      ]
     },
     "execution_count": 13,
     "metadata": {
     },
     "output_type": "execute_result"
    },
    {
     "data": {
      "text/plain": [
       "<Figure size 1440x720 with 0 Axes>"
      ]
     },
     "execution_count": 13,
     "metadata": {
     },
     "output_type": "execute_result"
    }
   ],
   "source": [
    "import matplotlib.pyplot as plt\n",
    "import pandas as pd\n",
    "df = pd.read_csv('qualities_in_T.csv')\n",
    "data = df['Quality']\n",
    "data.hist(bins=609)\n",
    "plt.xlim([1.0,1.4])\n",
    "plt.title(\"\")\n",
    "plt.xlabel(\"Quality\")\n",
    "plt.ylabel(\"Frequency\")\n",
    "plt.figure(figsize=(20,10))\n",
    "plt.show()"
   ]
  },
  {
   "cell_type": "code",
   "execution_count": 0,
   "metadata": {
    "collapsed": false
   },
   "outputs": [
   ],
   "source": [
   ]
  }
 ],
 "metadata": {
  "kernelspec": {
   "display_name": "SageMath 9.1",
   "language": "sagemath",
   "metadata": {
    "cocalc": {
     "description": "Open-source mathematical software system",
     "priority": 1,
     "url": "https://www.sagemath.org/"
    }
   },
   "name": "sage-9.1",
   "resource_dir": "/ext/jupyter/kernels/sage-9.1"
  }
 },
 "nbformat": 4,
 "nbformat_minor": 4
}